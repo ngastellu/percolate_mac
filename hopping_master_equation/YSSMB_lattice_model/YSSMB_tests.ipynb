{
 "cells": [
  {
   "cell_type": "markdown",
   "metadata": {},
   "source": [
    "# Testing/debugging YSSMB simulations\n",
    "\n",
    "This notebook contains a systematic test of the functions and patterns used to obtain my (so far very wrong) results of the YSSMB model. These functions are mostly contained in `../HoppingMasterEquation.jl`.\n",
    "\n"
   ]
  },
  {
   "cell_type": "code",
   "execution_count": 1,
   "metadata": {},
   "outputs": [
    {
     "ename": "InterruptException",
     "evalue": "InterruptException:",
     "output_type": "error",
     "traceback": [
      "InterruptException:\n",
      "\n",
      "Stacktrace:\n",
      "  [1] _include_from_serialized(pkg::Base.PkgId, path::String, depmods::Vector{Any})\n",
      "    @ Base ./loading.jl:807\n",
      "  [2] _tryrequire_from_serialized(modkey::Base.PkgId, path::String, sourcepath::String, depmods::Vector{Any})\n",
      "    @ Base ./loading.jl:938\n",
      "  [3] _require_search_from_serialized(pkg::Base.PkgId, sourcepath::String, build_id::UInt64)\n",
      "    @ Base ./loading.jl:1028\n",
      "  [4] _require(pkg::Base.PkgId)\n",
      "    @ Base ./loading.jl:1315\n",
      "  [5] _require_prelocked(uuidkey::Base.PkgId)\n",
      "    @ Base ./loading.jl:1200\n",
      "  [6] macro expansion\n",
      "    @ ./loading.jl:1180 [inlined]\n",
      "  [7] macro expansion\n",
      "    @ ./lock.jl:223 [inlined]\n",
      "  [8] require(into::Module, mod::Symbol)\n",
      "    @ Base ./loading.jl:1144\n",
      "  [9] eval\n",
      "    @ ./boot.jl:368 [inlined]\n",
      " [10] include_string(mapexpr::typeof(REPL.softscope), mod::Module, code::String, filename::String)\n",
      "    @ Base ./loading.jl:1428\n",
      " [11] #invokelatest#2\n",
      "    @ ./essentials.jl:729 [inlined]\n",
      " [12] invokelatest\n",
      "    @ ./essentials.jl:726 [inlined]\n",
      " [13] (::VSCodeServer.var\"#202#203\"{VSCodeServer.NotebookRunCellArguments, String})()\n",
      "    @ VSCodeServer ~/.vscode/extensions/julialang.language-julia-1.60.2/scripts/packages/VSCodeServer/src/serve_notebook.jl:19\n",
      " [14] withpath(f::VSCodeServer.var\"#202#203\"{VSCodeServer.NotebookRunCellArguments, String}, path::String)\n",
      "    @ VSCodeServer ~/.vscode/extensions/julialang.language-julia-1.60.2/scripts/packages/VSCodeServer/src/repl.jl:274\n",
      " [15] notebook_runcell_request(conn::VSCodeServer.JSONRPC.JSONRPCEndpoint{Base.PipeEndpoint, Base.PipeEndpoint}, params::VSCodeServer.NotebookRunCellArguments)\n",
      "    @ VSCodeServer ~/.vscode/extensions/julialang.language-julia-1.60.2/scripts/packages/VSCodeServer/src/serve_notebook.jl:13\n",
      " [16] dispatch_msg(x::VSCodeServer.JSONRPC.JSONRPCEndpoint{Base.PipeEndpoint, Base.PipeEndpoint}, dispatcher::VSCodeServer.JSONRPC.MsgDispatcher, msg::Dict{String, Any})\n",
      "    @ VSCodeServer.JSONRPC ~/.vscode/extensions/julialang.language-julia-1.60.2/scripts/packages/JSONRPC/src/typed.jl:67\n",
      " [17] serve_notebook(pipename::String, outputchannel_logger::Base.CoreLogging.SimpleLogger; crashreporting_pipename::String)\n",
      "    @ VSCodeServer ~/.vscode/extensions/julialang.language-julia-1.60.2/scripts/packages/VSCodeServer/src/serve_notebook.jl:139\n",
      " [18] top-level scope\n",
      "    @ ~/.vscode/extensions/julialang.language-julia-1.60.2/scripts/notebook/notebook.jl:32"
     ]
    }
   ],
   "source": [
    "\n",
    "include(\"../HoppingMasterEquation.jl\")\n",
    "\n",
    "using LinearAlgebra, .HoppingMasterEquation, GLMakie\n"
   ]
  },
  {
   "cell_type": "markdown",
   "metadata": {},
   "source": [
    "## 1. Neighbour indices"
   ]
  },
  {
   "cell_type": "code",
   "execution_count": 2,
   "metadata": {},
   "outputs": [],
   "source": [
    "include(\"../HoppingMasterEquation.jl\")\n",
    "\n",
    "using LinearAlgebra, Random, .HoppingMasterEquation, GLMakie\n",
    "\n",
    "N1 = 4;\n",
    "N2 = 2;\n",
    "N2 = 2;\n",
    "\n",
    "a = 10;\n",
    "\n",
    "pos = zeros(N1,N2,N2,3);\n",
    "for i=1:N1\n",
    "    for j=1:N2\n",
    "        for k=1:N2\n",
    "            pos[i,j,k,:] = [i,j,k] .* a;\n",
    "        end\n",
    "    end\n",
    "end\n",
    "\n",
    "pos = reshape(pos,N1*N2*N2,3);\n",
    "innn = get_nnn_inds_3d(pos,a);\n",
    "\n",
    "println(\"MAX NNN distance = $(sqrt(2)*a)\")\n",
    "\n",
    "for i=1:16\n",
    "    println(\"*** $i ***\")\n",
    "    println(\"pos[$i] = $(pos[i,:])\")\n",
    "    println(\"NNN inds = $(innn[i,:])\")\n",
    "    for j in innn[i,:]\n",
    "        if j != 0\n",
    "            println(\"$j: $(pos[j,:])  $(norm(pos[i,:] - pos[j,:])) \")\n",
    "        end\n",
    "    end\n",
    "    println(\"\\n\")\n",
    "end\n"
   ]
  },
  {
   "cell_type": "markdown",
   "metadata": {},
   "source": [
    "## 2.Rate matrix evaluation"
   ]
  },
  {
   "cell_type": "code",
   "execution_count": 18,
   "metadata": {},
   "outputs": [],
   "source": [
    "include(\"../HoppingMasterEquation.jl\")\n",
    "\n",
    "using LinearAlgebra, Random, .HoppingMasterEquation, CairoMakie\n",
    "\n",
    "N1 = 16\n",
    "N2 = 8\n",
    "a = 10\n",
    "\n",
    "println(\"Defining pos\")\n",
    "\n",
    "pos = zeros(N1,N2,N2,3);\n",
    "for i=1:N1\n",
    "    for j=1:N2\n",
    "        for k=1:N2\n",
    "            pos[i,j,k,:] = [i,j,k] .*a ;\n",
    "        end\n",
    "    end\n",
    "end\n",
    "\n",
    "pos = reshape(pos,N1*N2*N2,3);\n",
    "\n",
    "println(\"Getting innn\")\n",
    "innn = get_nnn_inds_3d(pos, a)\n",
    "\n",
    "\n",
    "println(\"Getting energies\")\n",
    "energies = randn(N1*N2*N2);\n",
    "energies0 = zeros(N1*N2*N2);\n",
    "\n",
    "dX = N1 - 1\n",
    "E = [1,0,0] / dX\n",
    "T = 300\n",
    "\n",
    "\n",
    "print(\"Getting rate matrices\")\n",
    "K =miller_abrahams_YSSMB(pos,energies, innn, T, E)\n",
    "K0 =miller_abrahams_YSSMB(pos,energies0, innn, T, E)\n",
    "\n",
    "\n",
    "N = size(pos,1)\n",
    "plot_data = ones(N*(N-1)÷2,2) .* -1\n",
    "k = 1\n",
    "\n",
    "println(\"Getting plot_data\")\n",
    "for i=1:N\n",
    "    for j=1:i-1\n",
    "        ΔR = norm(pos[i,:] - pos[j,:])\n",
    "        if ΔR ≤ sqrt(2)\n",
    "            println(k)\n",
    "            global plot_data[k,1] = ΔR\n",
    "            global plot_data[k,2] = K0[i,j]\n",
    "            k+=1\n",
    "        end\n",
    "    end\n",
    "end\n",
    "println(plot_data)\n",
    "plot_data = plot_data[plot_data[:,1].> 0,:]\n",
    "expected = exp.(plot_data[:,1].*-1)\n",
    "\n",
    "f,ax, sc1 = scatter(plot_data[:,1], plot_data[:,2], color= :black, markersize=7)\n",
    "lines!(ax,plot_data[:,1], expected, color= :red)\n",
    "\n",
    "f"
   ]
  },
  {
   "cell_type": "code",
   "execution_count": 17,
   "metadata": {},
   "outputs": [
    {
     "data": {
      "text/plain": [
       "0×2 Matrix{Float64}"
      ]
     },
     "metadata": {},
     "output_type": "display_data"
    }
   ],
   "source": [
    "plot_data"
   ]
  }
 ],
 "metadata": {
  "kernelspec": {
   "display_name": "Julia 1.8.5",
   "language": "julia",
   "name": "julia-1.8"
  },
  "language_info": {
   "file_extension": ".jl",
   "mimetype": "application/julia",
   "name": "julia",
   "version": "1.8.5"
  }
 },
 "nbformat": 4,
 "nbformat_minor": 2
}
