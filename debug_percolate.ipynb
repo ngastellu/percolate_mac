{
 "cells": [
  {
   "attachments": {},
   "cell_type": "markdown",
   "metadata": {},
   "source": [
    "# Debugging `percolate`\n",
    "\n",
    "## 1. Dealing with the random empty clusters\n",
    "\n",
    "Some structures percolate at a given temperature $T_1$ but not at another temperature $T_2 > T_1$. This is clearly an erroneous result because if a spanning cluster forms at $T_1$, it must also be realisable at $T_2 > T_1$."
   ]
  },
  {
   "cell_type": "code",
   "execution_count": 17,
   "metadata": {},
   "outputs": [
    {
     "name": "stdout",
     "output_type": "stream",
     "text": [
      "(174, 40)\n",
      "(40,)\n"
     ]
    }
   ],
   "source": [
    "%matplotlib widget\n",
    "\n",
    "from os import path\n",
    "import pickle\n",
    "import numpy as np\n",
    "from numba import njit\n",
    "from qcnico.plt_utils import histogram\n",
    "\n",
    "\n",
    "def get_dcrits(run_inds,temps,datadir):\n",
    "    nsamples = len(run_inds)\n",
    "    ntemps = len(temps)\n",
    "    dcrits = np.zeros((nsamples,ntemps))\n",
    "    for k in range(nsamples):\n",
    "        for l in range(ntemps):\n",
    "            sampdir = f\"sample-{run_inds[k]}\"\n",
    "            pkl = f\"out_percolate-{temps[l]}K.pkl\"\n",
    "            fo = open(path.join(datadir,sampdir,pkl),'rb')\n",
    "            dat = pickle.load(fo)\n",
    "            dcrits[k,l] = dat[1]\n",
    "            fo.close()\n",
    "\n",
    "    return dcrits\n",
    "\n",
    "datadir=path.expanduser(\"~/Desktop/simulation_outputs/percolation/40x40/percolate_output\")\n",
    "fgood_runs = path.join(datadir, 'good_runs.txt')\n",
    "with open(fgood_runs) as fo:\n",
    "    lines = fo.readlines()\n",
    "\n",
    "# 'Good run' indices\n",
    "gr_inds = np.array(list(map(int,[line.rstrip().lstrip() for line in lines])))\n",
    "\n",
    "# temps = np.arange(0,1050,50)\n",
    "# temps[0] = 10\n",
    "temps = np.arange(40,440,10)\n",
    "\n",
    "dcrits = get_dcrits(gr_inds,temps, datadir)\n",
    "print(dcrits.shape)\n",
    "\n",
    "davg_T = np.mean(dcrits,axis=0)\n",
    "dstd_T = np.std(dcrits,axis=0)\n",
    "print(davg_T.shape)\n"
   ]
  },
  {
   "attachments": {},
   "cell_type": "markdown",
   "metadata": {},
   "source": [
    "Check which structures have increasing critical distances with increasing $T$."
   ]
  },
  {
   "cell_type": "code",
   "execution_count": 2,
   "metadata": {},
   "outputs": [
    {
     "name": "stdout",
     "output_type": "stream",
     "text": [
      "All critical distances decrease with temperature:  True\n"
     ]
    }
   ],
   "source": [
    "ddiffs = np.diff(dcrits)\n",
    "print(\"All critical distances decrease with temperature: \", np.all(ddiffs<=0))"
   ]
  },
  {
   "attachments": {},
   "cell_type": "markdown",
   "metadata": {},
   "source": [
    "Ok, so for all structures at all $T$: \n",
    "$$\\frac{\\partial d_c}{\\partial T} \\le 0\\,.$$\n",
    "Good.\n",
    "\n",
    "Now let's examine the instances where no percolating cluster is found."
   ]
  },
  {
   "cell_type": "code",
   "execution_count": 29,
   "metadata": {},
   "outputs": [
    {
     "name": "stdout",
     "output_type": "stream",
     "text": [
      "Sample nb. and temperatures where no percolation occured:\n",
      "[[ 25 150]\n",
      " [104  80]\n",
      " [123  40]\n",
      " [161 130]\n",
      " [188  80]\n",
      " [239  70]]\n"
     ]
    }
   ],
   "source": [
    "def get_clusters_sizes(run_inds,temps,datadir):\n",
    "    nsamples = len(run_inds)\n",
    "    ntemps = len(temps)\n",
    "    sizes = np.zeros((nsamples,ntemps),dtype=int)\n",
    "    for k in range(nsamples):\n",
    "        for l in range(ntemps):\n",
    "            sampdir = \"sample-\" + str(run_inds[k]) #fstrings don't work in Numba\n",
    "            pkl = \"out_percolate-\" + str(temps[l]) + \"K.pkl\"\n",
    "            with open(path.join(datadir,sampdir,pkl),'rb') as fo:\n",
    "                dat = pickle.load(fo)\n",
    "                c = dat[0]\n",
    "            if len(c) > 0:\n",
    "                sizes[k,l] = len(c[0]) #there is only one cluster each time\n",
    "            else:\n",
    "                sizes[k,l] = 0\n",
    "    return sizes\n",
    "\n",
    "csizes = get_clusters_sizes(gr_inds,temps,datadir)\n",
    "zero_cluster_inds = (csizes == 0).nonzero()\n",
    "print(\"Sample nb. and temperatures where no percolation occured:\")\n",
    "print(np.vstack((gr_inds[zero_cluster_inds[0]], temps[zero_cluster_inds[1]])).T)"
   ]
  },
  {
   "attachments": {},
   "cell_type": "markdown",
   "metadata": {},
   "source": [
    "Let's check out sample 25 and what happens around $T =150\\,\\text{K}$."
   ]
  },
  {
   "cell_type": "code",
   "execution_count": 31,
   "metadata": {},
   "outputs": [
    {
     "name": "stdout",
     "output_type": "stream",
     "text": [
      "25\n"
     ]
    }
   ],
   "source": [
    "from qcnico.coords_io import read_xsf\n",
    "\n",
    "def get_cluster_data(run_ind,nMOs,temps,datadir):\n",
    "    ntemps = len(temps)\n",
    "    clusters = []\n",
    "    adjmats = np.zeros((ntemps,nMOs,nMOs),dtype=bool)\n",
    "    for l in range(ntemps):\n",
    "        sampdir = \"sample-\" + str(run_ind) #fstrings don't work in Numba\n",
    "        pkl = \"out_percolate-\" + str(temps[l]) + \"K.pkl\"\n",
    "        with open(path.join(datadir,sampdir,pkl),'rb') as fo:\n",
    "            dat = pickle.load(fo)\n",
    "            clusters.append(dat[0])\n",
    "            adjmats[l,:,:] = dat[2]\n",
    "    return clusters, adjmats\n",
    "\n",
    "\n",
    "gr_nn = zero_cluster_inds[0][0]\n",
    "nn = gr_inds[gr_nn] # should equal 25\n",
    "print(nn)\n",
    "Tsample_inds = np.array([0,10,11,12,-1])\n",
    "Tsample = temps[Tsample_inds]\n",
    "\n",
    "posdir = path.join(path.dirname(datadir), 'structures')\n",
    "Mdir = path.join(path.dirname(datadir), 'MOs_ARPACK')\n",
    "edir = path.join(path.dirname(datadir), 'eARPACK')\n",
    "\n",
    "posfile = path.join(posdir,f'bigMAC-{nn}_relaxed.xsf')\n",
    "Mfile = path.join(Mdir,f'MOs_ARPACK_bigMAC-{nn}.npy')\n",
    "efile = path.join(edir, f'eARPACK_bigMAC-{nn}.npy')\n",
    "locfile = path.join(datadir,f'sample-{nn}','cc.npy')\n",
    "eefile = path.join(datadir,f'sample-{nn}','ee.npy')\n",
    "\n",
    "pos, _ = read_xsf(posfile)\n",
    "M = np.load(Mfile)\n",
    "energies = np.load(efile) #energies appear only once (apart from degeneracies)\n",
    "loc_centers = np.load(locfile)\n",
    "ee = np.load(eefile) #each energy appears as many times as its associated has localisation centres\n",
    "\n",
    "clusters, adjmats = get_cluster_data(25,loc_centers.shape[0],temps,datadir)"
   ]
  },
  {
   "cell_type": "code",
   "execution_count": 30,
   "metadata": {},
   "outputs": [
    {
     "data": {
      "application/vnd.jupyter.widget-view+json": {
       "model_id": "c93032563d3540edada3e513bda44b33",
       "version_major": 2,
       "version_minor": 0
      },
      "image/png": "[encoded data removed]",
      "text/html": [
       "\n",
       "            <div style=\"display: inline-block;\">\n",
       "                <div class=\"jupyter-widgets widget-label\" style=\"text-align: center;\">\n",
       "                    Figure\n",
       "                </div>\n",
       "                <img src='data:image/png;base64,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' width=640.0/>\n",
       "            </div>\n",
       "        "
      ],
      "text/plain": [
       "Canvas(toolbar=Toolbar(toolitems=[('Home', 'Reset original view', 'home', 'home'), ('Back', 'Back to previous …"
      ]
     },
     "metadata": {},
     "output_type": "display_data"
    }
   ],
   "source": [
    "import matplotlib.pyplot as plt\n",
    "\n",
    "dd25 = dcrits[gr_nn,:]\n",
    "cs25 = csizes[gr_nn,:]\n",
    "\n",
    "fig, axs = plt.subplots(2,1,sharex=True)\n",
    "axs[0].plot(temps,dd25,'r-',lw=0.8)\n",
    "axs[1].plot(temps,cs25,'r-',lw=0.8)\n",
    "axs[0].set_ylabel('$d_c$')          \n",
    "axs[1].set_xlabel('$T$ [K]')\n",
    "axs[1].set_ylabel('Cluster size')\n",
    "plt.show()"
   ]
  },
  {
   "cell_type": "code",
   "execution_count": 34,
   "metadata": {},
   "outputs": [
    {
     "name": "stdout",
     "output_type": "stream",
     "text": [
      "55.32550988391601\n",
      "21.718544766178606\n"
     ]
    }
   ],
   "source": [
    "from percolate import diff_arrs\n",
    "\n",
    "kB = 8.617e-5\n",
    "T = 150 #K\n",
    "\n",
    "edarr, rdarr = diff_arrs(ee,loc_centers,a0=30,eF=0)\n",
    "MA_dists = (edarr/(kB*T)) +  rdarr\n",
    "print(np.max(MA_dists))\n",
    "print(dd25[11])\n"
   ]
  },
  {
   "attachments": {},
   "cell_type": "markdown",
   "metadata": {},
   "source": [
    "Figured out the issue; turns out the `percolate` function returned an empty cluster upon reaching the $N^{\\text{th}}$ distance, as oppose to the ${N(N-1)/2}^{\\text{th}}$ (in increasing order). In other words, it thought it was finished looking at all the inter-centre distances in the structure, when in fact, it still had a bunch more distances to check. \n",
    "Issue is fixed now.\n",
    "\n",
    "Now onto the next issue.\n",
    "\n",
    "## Clusters with only two overlapping centers\n",
    "\n",
    "Some clusters are comprised of only two localisation centres whose spatial position overlap. This does not seem correct, as the likelihood of having two MOs coupled to opposite edges coarse-grained to the same localisation centre is quite small. It is possible though, if we have an MO with split localisation on both edges. Let's investigate."
   ]
  },
  {
   "cell_type": "code",
   "execution_count": null,
   "metadata": {},
   "outputs": [],
   "source": [
    "tiny_cluster_inds = (csizes == 2).nonzero()\n",
    "\n",
    "\n"
   ]
  }
 ],
 "metadata": {
  "kernelspec": {
   "display_name": "base",
   "language": "python",
   "name": "python3"
  },
  "language_info": {
   "codemirror_mode": {
    "name": "ipython",
    "version": 3
   },
   "file_extension": ".py",
   "mimetype": "text/x-python",
   "name": "python",
   "nbconvert_exporter": "python",
   "pygments_lexer": "ipython3",
   "version": "3.9.13"
  },
  "orig_nbformat": 4
 },
 "nbformat": 4,
 "nbformat_minor": 2
}
