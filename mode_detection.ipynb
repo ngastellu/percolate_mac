{
 "cells": [
  {
   "attachments": {},
   "cell_type": "markdown",
   "metadata": {},
   "source": [
    "# Mode detection in MOs test"
   ]
  },
  {
   "attachments": {},
   "cell_type": "markdown",
   "metadata": {},
   "source": [
    "## Test 1: UniDip"
   ]
  },
  {
   "attachments": {},
   "cell_type": "markdown",
   "metadata": {},
   "source": [
    "### A: On a classic bimodal Gaussian"
   ]
  },
  {
   "cell_type": "code",
   "execution_count": null,
   "metadata": {},
   "outputs": [],
   "source": [
    "%matplotlib widget\n",
    "import numpy as np\n",
    "from numpy.random import default_rng\n",
    "import matplotlib.pyplot as plt\n",
    "from qcnico import plt_utils\n",
    "\n",
    "\n",
    "rng = default_rng()\n",
    "X = np.sort(np.hstack([rng.standard_normal(300)-3, rng.standard_normal(300)+3]))\n",
    "\n",
    "fig, ax = plt.subplots()\n",
    "\n",
    "plt_utils.histogram(X,nbins=50,plt_objs=(fig,ax))\n",
    "\n",
    "\n"
   ]
  },
  {
   "cell_type": "code",
   "execution_count": null,
   "metadata": {},
   "outputs": [],
   "source": [
    "from unidip import UniDip\n",
    "\n",
    "intervals = UniDip(X).run()\n",
    "print(intervals)\n",
    "\n",
    "for k,I in enumerate(intervals):\n",
    "    print(f\" Interval # {k+1} [{X[I[0]]}; {X[I[1]]}]\")"
   ]
  },
  {
   "attachments": {},
   "cell_type": "markdown",
   "metadata": {},
   "source": [
    "## Step 2: Examining density distribution for various MOs\n",
    "\n",
    "First, let's load all of the data"
   ]
  },
  {
   "cell_type": "code",
   "execution_count": null,
   "metadata": {},
   "outputs": [],
   "source": [
    "%matplotlib widget\n",
    "\n",
    "from os import path\n",
    "from qcnico.coords_io import read_xsf\n",
    "from qcnico.remove_dangling_carbons import remove_dangling_carbons\n",
    "\n",
    "\n",
    "datadir = path.expanduser(\"~/Desktop/simulation_outputs/percolation/40x40\")\n",
    "posdir = path.join(datadir, \"structures\")\n",
    "\n",
    "lbls = [f'bigMAC-{n}' for n in [2,3,5,6,7,9,10]]\n",
    "\n",
    "rCC_MAC = 1.8\n",
    "\n",
    "def getARPACKdata(datadir,lbls):\n",
    "    edir = path.join(datadir,'eARPACK')\n",
    "    Mdir = path.join(datadir,'MOs_ARPACK')\n",
    "    ee = [np.load(path.join(edir,f'eARPACK_{lbl}.npy')) for lbl in lbls]\n",
    "    MM = [np.load(path.join(Mdir,f'MOs_ARPACK_{lbl}.npy')) for lbl in lbls]\n",
    "    return ee, MM\n",
    "\n",
    "def get_pos(posdir,lbls):\n",
    "    return [remove_dangling_carbons(read_xsf(path.join(posdir,f\"{lbl}_relaxed.xsf\"))[0],rCC_MAC) for lbl in lbls]\n",
    "    \n",
    "\n",
    "\n",
    "ee, MM = getARPACKdata(datadir,lbls)\n",
    "posarrs = get_pos(posdir,lbls)"
   ]
  },
  {
   "attachments": {},
   "cell_type": "markdown",
   "metadata": {},
   "source": [
    "Pick a specific MO based (previoulsy plotted in `santity_check.ipynb`) that we know is multimodal"
   ]
  },
  {
   "cell_type": "code",
   "execution_count": null,
   "metadata": {},
   "outputs": [],
   "source": [
    "from qcnico.qcplots import plot_MO\n",
    "\n",
    "istruc = 3 \n",
    "iMO = -1 \n",
    "\n",
    "pos = posarrs[istruc]\n",
    "M = MM[istruc]\n",
    "\n",
    "plot_MO(pos,M,iMO,dotsize=1.0,show_COM=True,show_rgyr=True,show=True,usetex=False)"
   ]
  },
  {
   "cell_type": "code",
   "execution_count": null,
   "metadata": {},
   "outputs": [],
   "source": [
    "psi = np.abs(M[:,istruc])\n",
    "plt_utils.histogram(psi,nbins=100,log_counts=False)\n",
    "print(np.min(psi))\n",
    "print((psi>1e-2).sum())"
   ]
  },
  {
   "cell_type": "code",
   "execution_count": null,
   "metadata": {},
   "outputs": [],
   "source": [
    "from qcnico.qchemMAC import gridify_MO\n",
    "\n",
    "X = np.sort(pos[:,0])\n",
    "Y = np.sort(pos[:,1])\n",
    "\n",
    "deltaX = X[-1] - X[0]\n",
    "deltaY = Y[-1] - Y[0]\n",
    "\n",
    "res = 10.0 #resolution of grid in angstroms\n",
    "\n",
    "xgrid = np.linspace(X[0]-deltaX*res, X[-1]+deltaX*res, int(deltaX/res)+1)\n",
    "ygrid = np.linspace(Y[0]-deltaY*res, Y[-1]+deltaY*res, int(deltaY/res)+1)\n",
    "\n",
    "\n",
    "XX, YY = np.meshgrid(xgrid,ygrid,sparse=True)\n",
    "\n",
    "rho = gridify_MO(pos, M, iMO, XX, YY,eps=1e-3)\n",
    "\n",
    "print(type(rho)) \n",
    "plt.imshow(rho, cmap='plasma')\n",
    "plt.show()"
   ]
  },
  {
   "cell_type": "code",
   "execution_count": null,
   "metadata": {},
   "outputs": [],
   "source": [
    "rho.nonzero()"
   ]
  }
 ],
 "metadata": {
  "kernelspec": {
   "display_name": "base",
   "language": "python",
   "name": "python3"
  },
  "language_info": {
   "codemirror_mode": {
    "name": "ipython",
    "version": 3
   },
   "file_extension": ".py",
   "mimetype": "text/x-python",
   "name": "python",
   "nbconvert_exporter": "python",
   "pygments_lexer": "ipython3",
   "version": "3.9.13"
  },
  "orig_nbformat": 4
 },
 "nbformat": 4,
 "nbformat_minor": 2
}
