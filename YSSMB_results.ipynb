{
 "cells": [
  {
   "cell_type": "markdown",
   "metadata": {},
   "source": [
    "# Results on the Yu-Smith-Saxena-Martin-Bishop (YSSMB) lattice model\n",
    "\n",
    "This notebook contains the fruuts of my attempts at reproducing the results presented in the the two following papers by Yu et al.: \n",
    "\n",
    "* Yu, Z. G., et al. \"Molecular geometry fluctuation model for the mobility of conjugated polymers.\" Physical Review Letters 84.4 (2000): 721.\n",
    "\n",
    "* Yu, Z. G., et al. \"Molecular geometry fluctuations and field-dependent mobility in conjugated polymers.\" Physical Review B 63.8 (2001): 085202.\n"
   ]
  },
  {
   "cell_type": "markdown",
   "metadata": {},
   "source": [
    "## 1. Local results on single, small lattice realisation, with uncorrelated site energies.\n",
    "\n",
    "These are my results for a single realisation of a $32\\times 12\\times 12$ lattice ($a = 10\\,\\text{\\AA}$) with a voltage drop of 1V in the $x$-direction.\n",
    "\n",
    "The site energies are i.i.d. from a Gaussian distribution. In the papers, where they obey the following distance-decaying correlations:\n",
    "\n",
    "$$\n",
    "\\langle \\varepsilon_i\\,\\varepsilon_j\\rangle = \\nu^2 \\langle \\phi_i\\,\\phi_j\\rangle = \\frac{\\nu^2k_BT}{4\\pi KR_{ij}}\\,e^{-\\alpha R_{ij}}, \\text{with } R_{ij} = |\\bm{r}_i - \\bm{r}_j|,\\,\\alpha = \\sqrt{s/K}\n",
    "$$\n",
    "\n",
    "Let's focus on the initial and final occupation probabilities and on the hopping statistics"
   ]
  },
  {
   "cell_type": "code",
   "execution_count": null,
   "metadata": {},
   "outputs": [],
   "source": [
    "import numpy as np\n",
    "import matplotlib.pyplot as plt\n",
    "%matplotlib widget\n",
    "# from qcnico.plt_utils import setup_tex\n",
    "\n",
    "T = np.load('temps.npy')\n",
    "ee = np.load('energies.npy')\n",
    "vs = np.load('velocities.npy')\n",
    "P0 = np.load('Pinits.npy')\n",
    "Pf = np.load('Pfinals.npy')\n",
    "\n",
    "# setup_tex()\n",
    "\n",
    "\n",
    "fig, ax = plt.subplots((1,2))\n",
    "\n",
    "# Arrhenius plot\n",
    "ax[0].plot(1000/temps, np.log(vs), 'r-')\n",
    "ax[0].set_xlabel('$1000/T$ [K^{-1}]')\n",
    "ax[0].set_ylabel('$\\ln\\mu$ [\\AA/Vs]')\n",
    "\n",
    "ax[1].plot((1/temps)**(1/3), np.log(vs), 'r-')\n",
    "ax[0].set_xlabel('$T^{-1/3}$ [K^{-1/3}]')\n",
    "ax[0].set_ylabel('$\\ln\\mu$ [\\AA/Vs]')\n",
    "plt.show()\n",
    "\n",
    "fig, ax = \n",
    "\n"
   ]
  }
 ],
 "metadata": {
  "language_info": {
   "name": "python"
  }
 },
 "nbformat": 4,
 "nbformat_minor": 2
}
